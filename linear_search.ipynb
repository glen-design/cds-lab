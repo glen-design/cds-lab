{
 "cells": [
  {
   "cell_type": "code",
   "execution_count": null,
   "metadata": {},
   "outputs": [],
   "source": [
    "def linear_search(array, target):\n",
    "        \"\"\"    Performing a linear search on a list to find the target value\n",
    "               array and target are the parameters\n",
    "               returns index of the target if found, otherwise returns -1\n",
    "        \"\"\"\n",
    "        for i in range(len(array)):     #loops through each element in the list(array)\n",
    "                if array[i]==target:    #checks if the current element matches the target value\n",
    "                     return i      #returns the index of the target value if it is found in the list\n",
    "        return -1   #returns -1 if the target value is not found in the list\n",
    "\n",
    "#Ask the user to input a list of comma separated values \n",
    "numbers=input(\"Enter a list of comma separated values: \")\n",
    "\n",
    "numbers=list(map(int, numbers.split(',')))  #converts the input string into a list of integers\n",
    "print(\"Array: \", numbers)      #Prints the list \n",
    "\n",
    "#Ask the user to input a value to be searched in the array\n",
    "target_value=int(input(\"Enter the value to be searched: \")) \n",
    "print(\"Target value: \", target_value)   #prints the value to be searched for\n",
    "\n",
    "#Calling the linear_search function and storing the result\n",
    "result=linear_search(numbers, target_value)\n",
    "\n",
    "#Checks if the target value is found in the list or not and prints the result accordingly\n",
    "if result!=-1:\n",
    "    print(\"Target value %d is found at index %d\" %(target_value, result))\n",
    "\n",
    "else:\n",
    "    print(\"Target value %d not found in the list\" %(target_value))\n",
    "\n",
    "\n",
    "\n"
   ]
  }
 ],
 "metadata": {
  "language_info": {
   "name": "python"
  }
 },
 "nbformat": 4,
 "nbformat_minor": 2
}
